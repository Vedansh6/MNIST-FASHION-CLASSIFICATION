{
  "nbformat": 4,
  "nbformat_minor": 0,
  "metadata": {
    "colab": {
      "name": "MNIST FASHION CLASSIFICATION.ipynb",
      "provenance": []
    },
    "kernelspec": {
      "name": "python3",
      "display_name": "Python 3"
    },
    "language_info": {
      "name": "python"
    }
  },
  "cells": [
    {
      "cell_type": "code",
      "source": [
        "import numpy as np\n",
        "import pandas as pd\n",
        "import matplotlib.pyplot as plt\n",
        "import seaborn as sbn\n",
        "import tensorflow\n",
        "from tensorflow import keras\n",
        "from sklearn.model_selection import train_test_split\n",
        "from sklearn.metrics import confusion_matrix, classification_report\n",
        "from keras.models import Sequential\n",
        "from keras.layers import Conv2D, MaxPooling2D, Dropout, Dense, Flatten\n",
        "from tensorflow.keras.optimizers import Adam\n",
        "from keras.callbacks import TensorBoard\n",
        "from keras.utils.np_utils import to_categorical"
      ],
      "metadata": {
        "id": "y-hl4bSCxMVN"
      },
      "execution_count": 13,
      "outputs": []
    },
    {
      "cell_type": "code",
      "source": [
        "fashion_train_df = pd.read_csv('/content/drive/MyDrive/data_science/fashion-mnist_train.csv')\n",
        "fashion_test_df = pd.read_csv('/content/drive/MyDrive/data_science/fashion-mnist_test.csv')"
      ],
      "metadata": {
        "id": "_LAO2uW9yqW1"
      },
      "execution_count": 2,
      "outputs": []
    },
    {
      "cell_type": "code",
      "source": [
        "fashion_train_df.shape  "
      ],
      "metadata": {
        "colab": {
          "base_uri": "https://localhost:8080/"
        },
        "id": "-FlYT3aF09UX",
        "outputId": "8fe85c17-8e56-438e-89a3-70b2b1823645"
      },
      "execution_count": 3,
      "outputs": [
        {
          "output_type": "execute_result",
          "data": {
            "text/plain": [
              "(60000, 785)"
            ]
          },
          "metadata": {},
          "execution_count": 3
        }
      ]
    },
    {
      "cell_type": "code",
      "source": [
        "fashion_train_df.head()"
      ],
      "metadata": {
        "colab": {
          "base_uri": "https://localhost:8080/",
          "height": 299
        },
        "id": "FRvqRaJW1Mdr",
        "outputId": "2e865a85-b3c3-40b8-df5c-20f255b5e447"
      },
      "execution_count": 4,
      "outputs": [
        {
          "output_type": "execute_result",
          "data": {
            "text/plain": [
              "   label  pixel1  pixel2  pixel3  pixel4  pixel5  pixel6  pixel7  pixel8  \\\n",
              "0      2       0       0       0       0       0       0       0       0   \n",
              "1      9       0       0       0       0       0       0       0       0   \n",
              "2      6       0       0       0       0       0       0       0       5   \n",
              "3      0       0       0       0       1       2       0       0       0   \n",
              "4      3       0       0       0       0       0       0       0       0   \n",
              "\n",
              "   pixel9  ...  pixel775  pixel776  pixel777  pixel778  pixel779  pixel780  \\\n",
              "0       0  ...         0         0         0         0         0         0   \n",
              "1       0  ...         0         0         0         0         0         0   \n",
              "2       0  ...         0         0         0        30        43         0   \n",
              "3       0  ...         3         0         0         0         0         1   \n",
              "4       0  ...         0         0         0         0         0         0   \n",
              "\n",
              "   pixel781  pixel782  pixel783  pixel784  \n",
              "0         0         0         0         0  \n",
              "1         0         0         0         0  \n",
              "2         0         0         0         0  \n",
              "3         0         0         0         0  \n",
              "4         0         0         0         0  \n",
              "\n",
              "[5 rows x 785 columns]"
            ],
            "text/html": [
              "\n",
              "  <div id=\"df-74f7b40a-6fba-4d30-852a-f94e8bc12c1f\">\n",
              "    <div class=\"colab-df-container\">\n",
              "      <div>\n",
              "<style scoped>\n",
              "    .dataframe tbody tr th:only-of-type {\n",
              "        vertical-align: middle;\n",
              "    }\n",
              "\n",
              "    .dataframe tbody tr th {\n",
              "        vertical-align: top;\n",
              "    }\n",
              "\n",
              "    .dataframe thead th {\n",
              "        text-align: right;\n",
              "    }\n",
              "</style>\n",
              "<table border=\"1\" class=\"dataframe\">\n",
              "  <thead>\n",
              "    <tr style=\"text-align: right;\">\n",
              "      <th></th>\n",
              "      <th>label</th>\n",
              "      <th>pixel1</th>\n",
              "      <th>pixel2</th>\n",
              "      <th>pixel3</th>\n",
              "      <th>pixel4</th>\n",
              "      <th>pixel5</th>\n",
              "      <th>pixel6</th>\n",
              "      <th>pixel7</th>\n",
              "      <th>pixel8</th>\n",
              "      <th>pixel9</th>\n",
              "      <th>...</th>\n",
              "      <th>pixel775</th>\n",
              "      <th>pixel776</th>\n",
              "      <th>pixel777</th>\n",
              "      <th>pixel778</th>\n",
              "      <th>pixel779</th>\n",
              "      <th>pixel780</th>\n",
              "      <th>pixel781</th>\n",
              "      <th>pixel782</th>\n",
              "      <th>pixel783</th>\n",
              "      <th>pixel784</th>\n",
              "    </tr>\n",
              "  </thead>\n",
              "  <tbody>\n",
              "    <tr>\n",
              "      <th>0</th>\n",
              "      <td>2</td>\n",
              "      <td>0</td>\n",
              "      <td>0</td>\n",
              "      <td>0</td>\n",
              "      <td>0</td>\n",
              "      <td>0</td>\n",
              "      <td>0</td>\n",
              "      <td>0</td>\n",
              "      <td>0</td>\n",
              "      <td>0</td>\n",
              "      <td>...</td>\n",
              "      <td>0</td>\n",
              "      <td>0</td>\n",
              "      <td>0</td>\n",
              "      <td>0</td>\n",
              "      <td>0</td>\n",
              "      <td>0</td>\n",
              "      <td>0</td>\n",
              "      <td>0</td>\n",
              "      <td>0</td>\n",
              "      <td>0</td>\n",
              "    </tr>\n",
              "    <tr>\n",
              "      <th>1</th>\n",
              "      <td>9</td>\n",
              "      <td>0</td>\n",
              "      <td>0</td>\n",
              "      <td>0</td>\n",
              "      <td>0</td>\n",
              "      <td>0</td>\n",
              "      <td>0</td>\n",
              "      <td>0</td>\n",
              "      <td>0</td>\n",
              "      <td>0</td>\n",
              "      <td>...</td>\n",
              "      <td>0</td>\n",
              "      <td>0</td>\n",
              "      <td>0</td>\n",
              "      <td>0</td>\n",
              "      <td>0</td>\n",
              "      <td>0</td>\n",
              "      <td>0</td>\n",
              "      <td>0</td>\n",
              "      <td>0</td>\n",
              "      <td>0</td>\n",
              "    </tr>\n",
              "    <tr>\n",
              "      <th>2</th>\n",
              "      <td>6</td>\n",
              "      <td>0</td>\n",
              "      <td>0</td>\n",
              "      <td>0</td>\n",
              "      <td>0</td>\n",
              "      <td>0</td>\n",
              "      <td>0</td>\n",
              "      <td>0</td>\n",
              "      <td>5</td>\n",
              "      <td>0</td>\n",
              "      <td>...</td>\n",
              "      <td>0</td>\n",
              "      <td>0</td>\n",
              "      <td>0</td>\n",
              "      <td>30</td>\n",
              "      <td>43</td>\n",
              "      <td>0</td>\n",
              "      <td>0</td>\n",
              "      <td>0</td>\n",
              "      <td>0</td>\n",
              "      <td>0</td>\n",
              "    </tr>\n",
              "    <tr>\n",
              "      <th>3</th>\n",
              "      <td>0</td>\n",
              "      <td>0</td>\n",
              "      <td>0</td>\n",
              "      <td>0</td>\n",
              "      <td>1</td>\n",
              "      <td>2</td>\n",
              "      <td>0</td>\n",
              "      <td>0</td>\n",
              "      <td>0</td>\n",
              "      <td>0</td>\n",
              "      <td>...</td>\n",
              "      <td>3</td>\n",
              "      <td>0</td>\n",
              "      <td>0</td>\n",
              "      <td>0</td>\n",
              "      <td>0</td>\n",
              "      <td>1</td>\n",
              "      <td>0</td>\n",
              "      <td>0</td>\n",
              "      <td>0</td>\n",
              "      <td>0</td>\n",
              "    </tr>\n",
              "    <tr>\n",
              "      <th>4</th>\n",
              "      <td>3</td>\n",
              "      <td>0</td>\n",
              "      <td>0</td>\n",
              "      <td>0</td>\n",
              "      <td>0</td>\n",
              "      <td>0</td>\n",
              "      <td>0</td>\n",
              "      <td>0</td>\n",
              "      <td>0</td>\n",
              "      <td>0</td>\n",
              "      <td>...</td>\n",
              "      <td>0</td>\n",
              "      <td>0</td>\n",
              "      <td>0</td>\n",
              "      <td>0</td>\n",
              "      <td>0</td>\n",
              "      <td>0</td>\n",
              "      <td>0</td>\n",
              "      <td>0</td>\n",
              "      <td>0</td>\n",
              "      <td>0</td>\n",
              "    </tr>\n",
              "  </tbody>\n",
              "</table>\n",
              "<p>5 rows × 785 columns</p>\n",
              "</div>\n",
              "      <button class=\"colab-df-convert\" onclick=\"convertToInteractive('df-74f7b40a-6fba-4d30-852a-f94e8bc12c1f')\"\n",
              "              title=\"Convert this dataframe to an interactive table.\"\n",
              "              style=\"display:none;\">\n",
              "        \n",
              "  <svg xmlns=\"http://www.w3.org/2000/svg\" height=\"24px\"viewBox=\"0 0 24 24\"\n",
              "       width=\"24px\">\n",
              "    <path d=\"M0 0h24v24H0V0z\" fill=\"none\"/>\n",
              "    <path d=\"M18.56 5.44l.94 2.06.94-2.06 2.06-.94-2.06-.94-.94-2.06-.94 2.06-2.06.94zm-11 1L8.5 8.5l.94-2.06 2.06-.94-2.06-.94L8.5 2.5l-.94 2.06-2.06.94zm10 10l.94 2.06.94-2.06 2.06-.94-2.06-.94-.94-2.06-.94 2.06-2.06.94z\"/><path d=\"M17.41 7.96l-1.37-1.37c-.4-.4-.92-.59-1.43-.59-.52 0-1.04.2-1.43.59L10.3 9.45l-7.72 7.72c-.78.78-.78 2.05 0 2.83L4 21.41c.39.39.9.59 1.41.59.51 0 1.02-.2 1.41-.59l7.78-7.78 2.81-2.81c.8-.78.8-2.07 0-2.86zM5.41 20L4 18.59l7.72-7.72 1.47 1.35L5.41 20z\"/>\n",
              "  </svg>\n",
              "      </button>\n",
              "      \n",
              "  <style>\n",
              "    .colab-df-container {\n",
              "      display:flex;\n",
              "      flex-wrap:wrap;\n",
              "      gap: 12px;\n",
              "    }\n",
              "\n",
              "    .colab-df-convert {\n",
              "      background-color: #E8F0FE;\n",
              "      border: none;\n",
              "      border-radius: 50%;\n",
              "      cursor: pointer;\n",
              "      display: none;\n",
              "      fill: #1967D2;\n",
              "      height: 32px;\n",
              "      padding: 0 0 0 0;\n",
              "      width: 32px;\n",
              "    }\n",
              "\n",
              "    .colab-df-convert:hover {\n",
              "      background-color: #E2EBFA;\n",
              "      box-shadow: 0px 1px 2px rgba(60, 64, 67, 0.3), 0px 1px 3px 1px rgba(60, 64, 67, 0.15);\n",
              "      fill: #174EA6;\n",
              "    }\n",
              "\n",
              "    [theme=dark] .colab-df-convert {\n",
              "      background-color: #3B4455;\n",
              "      fill: #D2E3FC;\n",
              "    }\n",
              "\n",
              "    [theme=dark] .colab-df-convert:hover {\n",
              "      background-color: #434B5C;\n",
              "      box-shadow: 0px 1px 3px 1px rgba(0, 0, 0, 0.15);\n",
              "      filter: drop-shadow(0px 1px 2px rgba(0, 0, 0, 0.3));\n",
              "      fill: #FFFFFF;\n",
              "    }\n",
              "  </style>\n",
              "\n",
              "      <script>\n",
              "        const buttonEl =\n",
              "          document.querySelector('#df-74f7b40a-6fba-4d30-852a-f94e8bc12c1f button.colab-df-convert');\n",
              "        buttonEl.style.display =\n",
              "          google.colab.kernel.accessAllowed ? 'block' : 'none';\n",
              "\n",
              "        async function convertToInteractive(key) {\n",
              "          const element = document.querySelector('#df-74f7b40a-6fba-4d30-852a-f94e8bc12c1f');\n",
              "          const dataTable =\n",
              "            await google.colab.kernel.invokeFunction('convertToInteractive',\n",
              "                                                     [key], {});\n",
              "          if (!dataTable) return;\n",
              "\n",
              "          const docLinkHtml = 'Like what you see? Visit the ' +\n",
              "            '<a target=\"_blank\" href=https://colab.research.google.com/notebooks/data_table.ipynb>data table notebook</a>'\n",
              "            + ' to learn more about interactive tables.';\n",
              "          element.innerHTML = '';\n",
              "          dataTable['output_type'] = 'display_data';\n",
              "          await google.colab.output.renderOutput(dataTable, element);\n",
              "          const docLink = document.createElement('div');\n",
              "          docLink.innerHTML = docLinkHtml;\n",
              "          element.appendChild(docLink);\n",
              "        }\n",
              "      </script>\n",
              "    </div>\n",
              "  </div>\n",
              "  "
            ]
          },
          "metadata": {},
          "execution_count": 4
        }
      ]
    },
    {
      "cell_type": "code",
      "source": [
        "print(set(fashion_train_df['label']))"
      ],
      "metadata": {
        "colab": {
          "base_uri": "https://localhost:8080/"
        },
        "id": "vpbMhqbc1Re8",
        "outputId": "f12c0d77-2890-4216-813d-914c0c795275"
      },
      "execution_count": 5,
      "outputs": [
        {
          "output_type": "stream",
          "name": "stdout",
          "text": [
            "{0, 1, 2, 3, 4, 5, 6, 7, 8, 9}\n"
          ]
        }
      ]
    },
    {
      "cell_type": "code",
      "source": [
        "print([fashion_train_df.drop(labels='label', axis=1).min(axis=1).min(), \n",
        "      fashion_train_df.drop(labels='label', axis=1).max(axis=1).max()])"
      ],
      "metadata": {
        "colab": {
          "base_uri": "https://localhost:8080/"
        },
        "id": "T5ATLJA41hLt",
        "outputId": "c07832f2-e571-4698-d258-d56e1f5bf12e"
      },
      "execution_count": 6,
      "outputs": [
        {
          "output_type": "stream",
          "name": "stdout",
          "text": [
            "[0, 255]\n"
          ]
        }
      ]
    },
    {
      "cell_type": "code",
      "source": [
        "fashion_test_df.shape"
      ],
      "metadata": {
        "colab": {
          "base_uri": "https://localhost:8080/"
        },
        "id": "_JoIOcGi1u5d",
        "outputId": "44ad4885-1c48-4be4-fa25-ab42ba71cddf"
      },
      "execution_count": 7,
      "outputs": [
        {
          "output_type": "execute_result",
          "data": {
            "text/plain": [
              "(10000, 785)"
            ]
          },
          "metadata": {},
          "execution_count": 7
        }
      ]
    },
    {
      "cell_type": "code",
      "source": [
        "# convert to numpy arrays and reshape\n",
        "training = np.asarray(fashion_train_df, dtype='float32')\n",
        "X_train = training[:, 1:].reshape([-1,28,28,1])\n",
        "X_train = X_train/255   # Normalizing the data\n",
        "y_train = training[:, 0]\n",
        "\n",
        "testing = np.asarray(fashion_test_df, dtype='float32')\n",
        "X_test = testing[:, 1:].reshape([-1,28,28,1])\n",
        "X_test = X_test/255    # Normalizing the data\n",
        "y_test = testing[:, 0]"
      ],
      "metadata": {
        "id": "p0B2McIK23BQ"
      },
      "execution_count": 8,
      "outputs": []
    },
    {
      "cell_type": "code",
      "source": [
        "# Split the training set into training and validation sets\n",
        "X_train, X_val, y_train, y_val = train_test_split(X_train, y_train, test_size=0.2, random_state=12345)    # TODO : change the random state to 5"
      ],
      "metadata": {
        "id": "VBEwLnFYXN7G"
      },
      "execution_count": 9,
      "outputs": []
    },
    {
      "cell_type": "code",
      "source": [
        "# Lets check the shape of all three datasets\n",
        "print(X_train.shape, X_val.shape, X_test.shape)\n",
        "print(y_train.shape, y_val.shape, y_test.shape)"
      ],
      "metadata": {
        "colab": {
          "base_uri": "https://localhost:8080/"
        },
        "id": "Kx6ZAnc9XZSa",
        "outputId": "2acd40df-179d-4779-94e8-27a9a2d09f7e"
      },
      "execution_count": 10,
      "outputs": [
        {
          "output_type": "stream",
          "name": "stdout",
          "text": [
            "(48000, 28, 28, 1) (12000, 28, 28, 1) (10000, 28, 28, 1)\n",
            "(48000,) (12000,) (10000,)\n"
          ]
        }
      ]
    },
    {
      "cell_type": "code",
      "source": [
        "cnn_model = Sequential()\n",
        "cnn_model.add(Conv2D(filters=64, kernel_size=(3,3), input_shape=(28,28,1), activation='relu'))\n",
        "cnn_model.add(MaxPooling2D(pool_size = (2,2)))\n",
        "cnn_model.add(Dropout(rate=0.3))\n",
        "cnn_model.add(Flatten())\n",
        "cnn_model.add(Dense(units=32, activation='relu'))\n",
        "cnn_model.add(Dense(units=10, activation='sigmoid'))"
      ],
      "metadata": {
        "id": "WY-PjH77XbI_"
      },
      "execution_count": 11,
      "outputs": []
    },
    {
      "cell_type": "code",
      "source": [
        "cnn_model.compile(optimizer=Adam(lr=0.001), loss='sparse_categorical_crossentropy', metrics=['accuracy'])\n",
        "cnn_model.summary()"
      ],
      "metadata": {
        "colab": {
          "base_uri": "https://localhost:8080/"
        },
        "id": "ebdKm62WXjTh",
        "outputId": "e859bf56-5770-48ce-9d7d-f0784034b2be"
      },
      "execution_count": 14,
      "outputs": [
        {
          "output_type": "stream",
          "name": "stdout",
          "text": [
            "Model: \"sequential\"\n",
            "_________________________________________________________________\n",
            " Layer (type)                Output Shape              Param #   \n",
            "=================================================================\n",
            " conv2d (Conv2D)             (None, 26, 26, 64)        640       \n",
            "                                                                 \n",
            " max_pooling2d (MaxPooling2D  (None, 13, 13, 64)       0         \n",
            " )                                                               \n",
            "                                                                 \n",
            " dropout (Dropout)           (None, 13, 13, 64)        0         \n",
            "                                                                 \n",
            " flatten (Flatten)           (None, 10816)             0         \n",
            "                                                                 \n",
            " dense (Dense)               (None, 32)                346144    \n",
            "                                                                 \n",
            " dense_1 (Dense)             (None, 10)                330       \n",
            "                                                                 \n",
            "=================================================================\n",
            "Total params: 347,114\n",
            "Trainable params: 347,114\n",
            "Non-trainable params: 0\n",
            "_________________________________________________________________\n"
          ]
        },
        {
          "output_type": "stream",
          "name": "stderr",
          "text": [
            "/usr/local/lib/python3.7/dist-packages/keras/optimizer_v2/adam.py:105: UserWarning: The `lr` argument is deprecated, use `learning_rate` instead.\n",
            "  super(Adam, self).__init__(name, **kwargs)\n"
          ]
        }
      ]
    },
    {
      "cell_type": "code",
      "source": [
        "cnn_model.fit(x=X_train, y=y_train, batch_size=512, epochs=50, validation_data=(X_val, y_val))"
      ],
      "metadata": {
        "colab": {
          "base_uri": "https://localhost:8080/"
        },
        "id": "1pirH0NKXwHm",
        "outputId": "447e3748-6f4e-400d-aaa6-16c03c6d283e"
      },
      "execution_count": 15,
      "outputs": [
        {
          "output_type": "stream",
          "name": "stdout",
          "text": [
            "Epoch 1/50\n",
            "94/94 [==============================] - 44s 447ms/step - loss: 0.7286 - accuracy: 0.7509 - val_loss: 0.4319 - val_accuracy: 0.8518\n",
            "Epoch 2/50\n",
            "94/94 [==============================] - 34s 357ms/step - loss: 0.4032 - accuracy: 0.8585 - val_loss: 0.3637 - val_accuracy: 0.8767\n",
            "Epoch 3/50\n",
            "94/94 [==============================] - 33s 346ms/step - loss: 0.3491 - accuracy: 0.8774 - val_loss: 0.3389 - val_accuracy: 0.8822\n",
            "Epoch 4/50\n",
            "94/94 [==============================] - 34s 360ms/step - loss: 0.3218 - accuracy: 0.8878 - val_loss: 0.3036 - val_accuracy: 0.8940\n",
            "Epoch 5/50\n",
            "94/94 [==============================] - 34s 366ms/step - loss: 0.2990 - accuracy: 0.8939 - val_loss: 0.3019 - val_accuracy: 0.8948\n",
            "Epoch 6/50\n",
            "94/94 [==============================] - 32s 345ms/step - loss: 0.2833 - accuracy: 0.8989 - val_loss: 0.2933 - val_accuracy: 0.8941\n",
            "Epoch 7/50\n",
            "94/94 [==============================] - 32s 344ms/step - loss: 0.2711 - accuracy: 0.9030 - val_loss: 0.2806 - val_accuracy: 0.9004\n",
            "Epoch 8/50\n",
            "94/94 [==============================] - 32s 345ms/step - loss: 0.2563 - accuracy: 0.9087 - val_loss: 0.2691 - val_accuracy: 0.9037\n",
            "Epoch 9/50\n",
            "94/94 [==============================] - 32s 344ms/step - loss: 0.2461 - accuracy: 0.9142 - val_loss: 0.2616 - val_accuracy: 0.9051\n",
            "Epoch 10/50\n",
            "94/94 [==============================] - 32s 343ms/step - loss: 0.2390 - accuracy: 0.9140 - val_loss: 0.2634 - val_accuracy: 0.9072\n",
            "Epoch 11/50\n",
            "94/94 [==============================] - 32s 342ms/step - loss: 0.2331 - accuracy: 0.9171 - val_loss: 0.2502 - val_accuracy: 0.9107\n",
            "Epoch 12/50\n",
            "94/94 [==============================] - 32s 343ms/step - loss: 0.2252 - accuracy: 0.9194 - val_loss: 0.2492 - val_accuracy: 0.9109\n",
            "Epoch 13/50\n",
            "94/94 [==============================] - 32s 342ms/step - loss: 0.2163 - accuracy: 0.9222 - val_loss: 0.2445 - val_accuracy: 0.9124\n",
            "Epoch 14/50\n",
            "94/94 [==============================] - 32s 341ms/step - loss: 0.2119 - accuracy: 0.9239 - val_loss: 0.2539 - val_accuracy: 0.9078\n",
            "Epoch 15/50\n",
            "94/94 [==============================] - 32s 341ms/step - loss: 0.2048 - accuracy: 0.9265 - val_loss: 0.2424 - val_accuracy: 0.9112\n",
            "Epoch 16/50\n",
            "94/94 [==============================] - 34s 362ms/step - loss: 0.1993 - accuracy: 0.9285 - val_loss: 0.2423 - val_accuracy: 0.9118\n",
            "Epoch 17/50\n",
            "94/94 [==============================] - 32s 341ms/step - loss: 0.1939 - accuracy: 0.9302 - val_loss: 0.2426 - val_accuracy: 0.9118\n",
            "Epoch 18/50\n",
            "94/94 [==============================] - 32s 341ms/step - loss: 0.1913 - accuracy: 0.9306 - val_loss: 0.2375 - val_accuracy: 0.9171\n",
            "Epoch 19/50\n",
            "94/94 [==============================] - 32s 340ms/step - loss: 0.1887 - accuracy: 0.9311 - val_loss: 0.2382 - val_accuracy: 0.9130\n",
            "Epoch 20/50\n",
            "94/94 [==============================] - 32s 340ms/step - loss: 0.1816 - accuracy: 0.9348 - val_loss: 0.2325 - val_accuracy: 0.9183\n",
            "Epoch 21/50\n",
            "94/94 [==============================] - 32s 341ms/step - loss: 0.1765 - accuracy: 0.9355 - val_loss: 0.2374 - val_accuracy: 0.9160\n",
            "Epoch 22/50\n",
            "94/94 [==============================] - 32s 340ms/step - loss: 0.1716 - accuracy: 0.9377 - val_loss: 0.2397 - val_accuracy: 0.9178\n",
            "Epoch 23/50\n",
            "94/94 [==============================] - 32s 340ms/step - loss: 0.1686 - accuracy: 0.9386 - val_loss: 0.2374 - val_accuracy: 0.9169\n",
            "Epoch 24/50\n",
            "94/94 [==============================] - 32s 339ms/step - loss: 0.1639 - accuracy: 0.9412 - val_loss: 0.2328 - val_accuracy: 0.9190\n",
            "Epoch 25/50\n",
            "94/94 [==============================] - 32s 339ms/step - loss: 0.1637 - accuracy: 0.9401 - val_loss: 0.2371 - val_accuracy: 0.9171\n",
            "Epoch 26/50\n",
            "94/94 [==============================] - 34s 359ms/step - loss: 0.1581 - accuracy: 0.9423 - val_loss: 0.2392 - val_accuracy: 0.9168\n",
            "Epoch 27/50\n",
            "94/94 [==============================] - 32s 338ms/step - loss: 0.1563 - accuracy: 0.9434 - val_loss: 0.2388 - val_accuracy: 0.9178\n",
            "Epoch 28/50\n",
            "94/94 [==============================] - 32s 338ms/step - loss: 0.1499 - accuracy: 0.9455 - val_loss: 0.2357 - val_accuracy: 0.9202\n",
            "Epoch 29/50\n",
            "94/94 [==============================] - 32s 338ms/step - loss: 0.1464 - accuracy: 0.9459 - val_loss: 0.2358 - val_accuracy: 0.9197\n",
            "Epoch 30/50\n",
            "94/94 [==============================] - 32s 338ms/step - loss: 0.1428 - accuracy: 0.9481 - val_loss: 0.2338 - val_accuracy: 0.9199\n",
            "Epoch 31/50\n",
            "94/94 [==============================] - 32s 338ms/step - loss: 0.1420 - accuracy: 0.9478 - val_loss: 0.2390 - val_accuracy: 0.9193\n",
            "Epoch 32/50\n",
            "94/94 [==============================] - 32s 337ms/step - loss: 0.1404 - accuracy: 0.9484 - val_loss: 0.2354 - val_accuracy: 0.9204\n",
            "Epoch 33/50\n",
            "94/94 [==============================] - 32s 337ms/step - loss: 0.1366 - accuracy: 0.9502 - val_loss: 0.2466 - val_accuracy: 0.9208\n",
            "Epoch 34/50\n",
            "94/94 [==============================] - 32s 337ms/step - loss: 0.1340 - accuracy: 0.9518 - val_loss: 0.2393 - val_accuracy: 0.9211\n",
            "Epoch 35/50\n",
            "94/94 [==============================] - 32s 338ms/step - loss: 0.1299 - accuracy: 0.9527 - val_loss: 0.2389 - val_accuracy: 0.9192\n",
            "Epoch 36/50\n",
            "94/94 [==============================] - 32s 337ms/step - loss: 0.1290 - accuracy: 0.9528 - val_loss: 0.2397 - val_accuracy: 0.9215\n",
            "Epoch 37/50\n",
            "94/94 [==============================] - 34s 357ms/step - loss: 0.1274 - accuracy: 0.9520 - val_loss: 0.2541 - val_accuracy: 0.9179\n",
            "Epoch 38/50\n",
            "94/94 [==============================] - 32s 337ms/step - loss: 0.1220 - accuracy: 0.9561 - val_loss: 0.2391 - val_accuracy: 0.9230\n",
            "Epoch 39/50\n",
            "94/94 [==============================] - 32s 338ms/step - loss: 0.1216 - accuracy: 0.9551 - val_loss: 0.2523 - val_accuracy: 0.9207\n",
            "Epoch 40/50\n",
            "94/94 [==============================] - 32s 337ms/step - loss: 0.1195 - accuracy: 0.9564 - val_loss: 0.2616 - val_accuracy: 0.9179\n",
            "Epoch 41/50\n",
            "94/94 [==============================] - 32s 337ms/step - loss: 0.1179 - accuracy: 0.9565 - val_loss: 0.2465 - val_accuracy: 0.9210\n",
            "Epoch 42/50\n",
            "94/94 [==============================] - 32s 337ms/step - loss: 0.1140 - accuracy: 0.9591 - val_loss: 0.2448 - val_accuracy: 0.9205\n",
            "Epoch 43/50\n",
            "94/94 [==============================] - 32s 336ms/step - loss: 0.1122 - accuracy: 0.9589 - val_loss: 0.2530 - val_accuracy: 0.9196\n",
            "Epoch 44/50\n",
            "94/94 [==============================] - 32s 336ms/step - loss: 0.1078 - accuracy: 0.9606 - val_loss: 0.2486 - val_accuracy: 0.9210\n",
            "Epoch 45/50\n",
            "94/94 [==============================] - 32s 336ms/step - loss: 0.1066 - accuracy: 0.9610 - val_loss: 0.2542 - val_accuracy: 0.9190\n",
            "Epoch 46/50\n",
            "94/94 [==============================] - 32s 337ms/step - loss: 0.1056 - accuracy: 0.9613 - val_loss: 0.2537 - val_accuracy: 0.9207\n",
            "Epoch 47/50\n",
            "94/94 [==============================] - 32s 336ms/step - loss: 0.1036 - accuracy: 0.9624 - val_loss: 0.2707 - val_accuracy: 0.9172\n",
            "Epoch 48/50\n",
            "94/94 [==============================] - 33s 356ms/step - loss: 0.1026 - accuracy: 0.9619 - val_loss: 0.2571 - val_accuracy: 0.9216\n",
            "Epoch 49/50\n",
            "94/94 [==============================] - 32s 337ms/step - loss: 0.0996 - accuracy: 0.9638 - val_loss: 0.2580 - val_accuracy: 0.9207\n",
            "Epoch 50/50\n",
            "94/94 [==============================] - 32s 336ms/step - loss: 0.0993 - accuracy: 0.9638 - val_loss: 0.2625 - val_accuracy: 0.9218\n"
          ]
        },
        {
          "output_type": "execute_result",
          "data": {
            "text/plain": [
              "<keras.callbacks.History at 0x7f0395c22210>"
            ]
          },
          "metadata": {},
          "execution_count": 15
        }
      ]
    },
    {
      "cell_type": "code",
      "source": [
        "\n",
        "predict_x=cnn_model.predict(X_test) \n",
        "predict_x=np.argmax(predict_x,axis=1)"
      ],
      "metadata": {
        "id": "LaXIW650eH0x"
      },
      "execution_count": 25,
      "outputs": []
    },
    {
      "cell_type": "code",
      "source": [
        "X_test.shape"
      ],
      "metadata": {
        "colab": {
          "base_uri": "https://localhost:8080/"
        },
        "id": "ztHZRVbHfIWC",
        "outputId": "97729bba-db11-4570-fe09-1996c169f6bb"
      },
      "execution_count": 23,
      "outputs": [
        {
          "output_type": "execute_result",
          "data": {
            "text/plain": [
              "(10000, 28, 28, 1)"
            ]
          },
          "metadata": {},
          "execution_count": 23
        }
      ]
    },
    {
      "cell_type": "code",
      "source": [
        "cm = confusion_matrix(y_test, predict_x)\n",
        "plt.figure(figsize=(10,5))\n",
        "sbn.heatmap(cm, annot=True)"
      ],
      "metadata": {
        "colab": {
          "base_uri": "https://localhost:8080/",
          "height": 338
        },
        "id": "sg6llnpEeZU0",
        "outputId": "fe616f03-41b2-43cc-a901-d755eeacde88"
      },
      "execution_count": 27,
      "outputs": [
        {
          "output_type": "execute_result",
          "data": {
            "text/plain": [
              "<matplotlib.axes._subplots.AxesSubplot at 0x7f0395b55810>"
            ]
          },
          "metadata": {},
          "execution_count": 27
        },
        {
          "output_type": "display_data",
          "data": {
            "text/plain": [
              "<Figure size 720x360 with 2 Axes>"
            ],
            "image/png": "[encoded data removed]"
          },
          "metadata": {
            "needs_background": "light"
          }
        }
      ]
    },
    {
      "cell_type": "code",
      "source": [
        "num_classes = 10\n",
        "class_names = [\"class {}\".format(i) for i in range(num_classes)]\n",
        "cr = classification_report(y_test, predict_x, target_names=class_names)\n",
        "print(cr)"
      ],
      "metadata": {
        "colab": {
          "base_uri": "https://localhost:8080/"
        },
        "id": "J3MJoadXf7Nx",
        "outputId": "435a60fc-eb94-46c7-f373-a08667fc3798"
      },
      "execution_count": 28,
      "outputs": [
        {
          "output_type": "stream",
          "name": "stdout",
          "text": [
            "              precision    recall  f1-score   support\n",
            "\n",
            "     class 0       0.88      0.85      0.86      1000\n",
            "     class 1       0.98      0.99      0.99      1000\n",
            "     class 2       0.91      0.86      0.88      1000\n",
            "     class 3       0.95      0.92      0.93      1000\n",
            "     class 4       0.87      0.91      0.89      1000\n",
            "     class 5       0.99      0.97      0.98      1000\n",
            "     class 6       0.76      0.80      0.78      1000\n",
            "     class 7       0.96      0.96      0.96      1000\n",
            "     class 8       0.97      0.98      0.98      1000\n",
            "     class 9       0.95      0.97      0.96      1000\n",
            "\n",
            "    accuracy                           0.92     10000\n",
            "   macro avg       0.92      0.92      0.92     10000\n",
            "weighted avg       0.92      0.92      0.92     10000\n",
            "\n"
          ]
        }
      ]
    }
  ]
}